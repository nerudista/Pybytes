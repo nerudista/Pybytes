{
 "cells": [
  {
   "cell_type": "code",
   "execution_count": 17,
   "metadata": {},
   "outputs": [
    {
     "name": "stdout",
     "output_type": "stream",
     "text": [
      "<class 'list'>\n"
     ]
    }
   ],
   "source": [
    "from collections import Counter\n",
    "\n",
    "import requests\n",
    "\n",
    "CAR_DATA = 'https://bites-data.s3.us-east-2.amazonaws.com/cars.json'\n",
    "\n",
    "# pre-work: load JSON data into program\n",
    "\n",
    "with requests.Session() as s:\n",
    "    data = s.get(CAR_DATA).json()\n",
    "\n",
    "print (type(data))\n",
    "\n",
    "#print (data)"
   ]
  },
  {
   "cell_type": "code",
   "execution_count": 135,
   "metadata": {},
   "outputs": [],
   "source": [
    "# your turn:\n",
    "def most_prolific_automaker(year):\n",
    "    \"\"\"Given year 'year' return the automaker that released\n",
    "       the highest number of new car models\"\"\"\n",
    "    \n",
    "    cnt = Counter()\n",
    "    \n",
    "    for line in data:\n",
    "        if line['year'] == year:\n",
    "            #print(line['automaker'])\n",
    "            cnt[line['automaker']] += 1\n",
    "    \n",
    "    most = cnt.most_common(1)[0][0]    \n",
    "    \n",
    "    return most"
   ]
  },
  {
   "cell_type": "code",
   "execution_count": 136,
   "metadata": {},
   "outputs": [
    {
     "data": {
      "text/plain": [
       "'Dodge'"
      ]
     },
     "execution_count": 136,
     "metadata": {},
     "output_type": "execute_result"
    }
   ],
   "source": [
    "most_prolific_automaker(1999)"
   ]
  },
  {
   "cell_type": "code",
   "execution_count": 65,
   "metadata": {},
   "outputs": [],
   "source": [
    "def get_models(automaker, year):\n",
    "    \"\"\"Filter cars 'data' by 'automaker' and 'year',\n",
    "       return a set of models (a 'set' to avoid duplicate models)\"\"\"\n",
    "    models = set()\n",
    "    for line in data:\n",
    "        if line['year'] == year and line['automaker'] == automaker:\n",
    "            models.add(line['model'])\n",
    "    \n",
    "    return models"
   ]
  },
  {
   "cell_type": "code",
   "execution_count": 66,
   "metadata": {},
   "outputs": [
    {
     "data": {
      "text/plain": [
       "{'Caravan', 'Ram 2500', 'Ram Van 1500'}"
      ]
     },
     "execution_count": 66,
     "metadata": {},
     "output_type": "execute_result"
    }
   ],
   "source": [
    "get_models('Dodge', 1999)"
   ]
  },
  {
   "cell_type": "code",
   "execution_count": null,
   "metadata": {},
   "outputs": [],
   "source": []
  }
 ],
 "metadata": {
  "kernelspec": {
   "display_name": "Python 3",
   "language": "python",
   "name": "python3"
  },
  "language_info": {
   "codemirror_mode": {
    "name": "ipython",
    "version": 3
   },
   "file_extension": ".py",
   "mimetype": "text/x-python",
   "name": "python",
   "nbconvert_exporter": "python",
   "pygments_lexer": "ipython3",
   "version": "3.7.5"
  }
 },
 "nbformat": 4,
 "nbformat_minor": 4
}
